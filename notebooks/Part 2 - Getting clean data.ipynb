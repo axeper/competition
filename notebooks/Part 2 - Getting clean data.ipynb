{
 "cells": [
  {
   "cell_type": "code",
   "execution_count": 14,
   "metadata": {
    "collapsed": true
   },
   "outputs": [],
   "source": [
    "import numpy as np\n",
    "import pandas as pd\n",
    "import matplotlib.pyplot as plt\n",
    "import seaborn as sns\n",
    "%matplotlib inline"
   ]
  },
  {
   "cell_type": "code",
   "execution_count": 15,
   "metadata": {},
   "outputs": [
    {
     "name": "stderr",
     "output_type": "stream",
     "text": [
      "C:\\Users\\axel\\Anaconda3\\lib\\site-packages\\numpy\\lib\\arraysetops.py:463: FutureWarning: elementwise comparison failed; returning scalar instead, but in the future will perform elementwise comparison\n",
      "  mask |= (ar1 == a)\n"
     ]
    }
   ],
   "source": [
    "train = pd.read_csv(\"../tidy_data/train.csv\", index_col = 0)\n",
    "test = pd.read_csv(\"../tidy_data/test.csv\", index_col = 0)"
   ]
  },
  {
   "cell_type": "markdown",
   "metadata": {},
   "source": [
    "# From tidy data to clean data - train and validation"
   ]
  },
  {
   "cell_type": "code",
   "execution_count": 16,
   "metadata": {},
   "outputs": [
    {
     "data": {
      "text/plain": [
       "0    1521323\n",
       "1      10396\n",
       "Name: went_on_backorder, dtype: int64"
      ]
     },
     "execution_count": 16,
     "metadata": {},
     "output_type": "execute_result"
    }
   ],
   "source": [
    "train.went_on_backorder.value_counts()"
   ]
  },
  {
   "cell_type": "code",
   "execution_count": 17,
   "metadata": {},
   "outputs": [
    {
     "data": {
      "text/plain": [
       "national_inv         0.000000\n",
       "lead_time            0.059976\n",
       "in_transit_qty       0.000000\n",
       "min_bank             0.000000\n",
       "potential_issue      0.000000\n",
       "pieces_past_due      0.000000\n",
       "local_bo_qty         0.000000\n",
       "deck_risk            0.000000\n",
       "oe_constraint        0.000000\n",
       "ppap_risk            0.000000\n",
       "stop_auto_buy        0.000000\n",
       "rev_stop             0.000000\n",
       "forecast_3_month     0.000000\n",
       "forecast_6_month     0.042786\n",
       "forecast_9_month     0.064662\n",
       "perf_12_month_avg    0.044718\n",
       "perf_6_month_avg     0.033780\n",
       "sales_1_month        0.004986\n",
       "sales_3_month        0.042786\n",
       "sales_6_month        0.054690\n",
       "sales_9_month        0.009972\n",
       "went_on_backorder    0.000000\n",
       "dtype: float64"
      ]
     },
     "execution_count": 17,
     "metadata": {},
     "output_type": "execute_result"
    }
   ],
   "source": [
    "train.isnull().mean()"
   ]
  },
  {
   "cell_type": "code",
   "execution_count": 18,
   "metadata": {},
   "outputs": [
    {
     "data": {
      "text/html": [
       "<div>\n",
       "<style>\n",
       "    .dataframe thead tr:only-child th {\n",
       "        text-align: right;\n",
       "    }\n",
       "\n",
       "    .dataframe thead th {\n",
       "        text-align: left;\n",
       "    }\n",
       "\n",
       "    .dataframe tbody tr th {\n",
       "        vertical-align: top;\n",
       "    }\n",
       "</style>\n",
       "<table border=\"1\" class=\"dataframe\">\n",
       "  <thead>\n",
       "    <tr style=\"text-align: right;\">\n",
       "      <th></th>\n",
       "      <th>national_inv</th>\n",
       "      <th>lead_time</th>\n",
       "      <th>in_transit_qty</th>\n",
       "      <th>min_bank</th>\n",
       "      <th>potential_issue</th>\n",
       "      <th>pieces_past_due</th>\n",
       "      <th>local_bo_qty</th>\n",
       "      <th>deck_risk</th>\n",
       "      <th>oe_constraint</th>\n",
       "      <th>ppap_risk</th>\n",
       "      <th>...</th>\n",
       "      <th>forecast_3_month</th>\n",
       "      <th>forecast_6_month</th>\n",
       "      <th>forecast_9_month</th>\n",
       "      <th>perf_12_month_avg</th>\n",
       "      <th>perf_6_month_avg</th>\n",
       "      <th>sales_1_month</th>\n",
       "      <th>sales_3_month</th>\n",
       "      <th>sales_6_month</th>\n",
       "      <th>sales_9_month</th>\n",
       "      <th>went_on_backorder</th>\n",
       "    </tr>\n",
       "  </thead>\n",
       "  <tbody>\n",
       "    <tr>\n",
       "      <th>count</th>\n",
       "      <td>1.531719e+06</td>\n",
       "      <td>1.439852e+06</td>\n",
       "      <td>1.531719e+06</td>\n",
       "      <td>1.531719e+06</td>\n",
       "      <td>1.531719e+06</td>\n",
       "      <td>1.531719e+06</td>\n",
       "      <td>1.531719e+06</td>\n",
       "      <td>1.531719e+06</td>\n",
       "      <td>1.531719e+06</td>\n",
       "      <td>1.531719e+06</td>\n",
       "      <td>...</td>\n",
       "      <td>1.531719e+06</td>\n",
       "      <td>1.466183e+06</td>\n",
       "      <td>1.432675e+06</td>\n",
       "      <td>1.463223e+06</td>\n",
       "      <td>1.479977e+06</td>\n",
       "      <td>1.524082e+06</td>\n",
       "      <td>1.466183e+06</td>\n",
       "      <td>1.447949e+06</td>\n",
       "      <td>1.516445e+06</td>\n",
       "      <td>1.531719e+06</td>\n",
       "    </tr>\n",
       "    <tr>\n",
       "      <th>mean</th>\n",
       "      <td>5.019623e+02</td>\n",
       "      <td>7.877446e+00</td>\n",
       "      <td>4.331803e+01</td>\n",
       "      <td>5.302931e+01</td>\n",
       "      <td>5.157604e-04</td>\n",
       "      <td>2.031273e+00</td>\n",
       "      <td>6.386348e-01</td>\n",
       "      <td>2.256876e-01</td>\n",
       "      <td>1.553810e-04</td>\n",
       "      <td>1.204980e-01</td>\n",
       "      <td>...</td>\n",
       "      <td>1.786599e+02</td>\n",
       "      <td>3.475876e+02</td>\n",
       "      <td>5.071983e+02</td>\n",
       "      <td>-6.456384e+00</td>\n",
       "      <td>-6.901722e+00</td>\n",
       "      <td>5.579320e+01</td>\n",
       "      <td>1.744999e+02</td>\n",
       "      <td>3.426361e+02</td>\n",
       "      <td>5.238428e+02</td>\n",
       "      <td>6.787146e-03</td>\n",
       "    </tr>\n",
       "    <tr>\n",
       "      <th>std</th>\n",
       "      <td>3.085772e+04</td>\n",
       "      <td>7.047404e+00</td>\n",
       "      <td>1.359490e+03</td>\n",
       "      <td>1.329703e+03</td>\n",
       "      <td>2.270451e-02</td>\n",
       "      <td>2.342047e+02</td>\n",
       "      <td>3.393928e+01</td>\n",
       "      <td>4.180345e-01</td>\n",
       "      <td>1.246423e-02</td>\n",
       "      <td>3.255430e-01</td>\n",
       "      <td>...</td>\n",
       "      <td>5.291142e+03</td>\n",
       "      <td>1.027504e+04</td>\n",
       "      <td>1.481504e+04</td>\n",
       "      <td>2.587365e+01</td>\n",
       "      <td>2.660285e+01</td>\n",
       "      <td>1.980100e+03</td>\n",
       "      <td>5.265509e+03</td>\n",
       "      <td>9.826218e+03</td>\n",
       "      <td>1.491968e+04</td>\n",
       "      <td>8.210411e-02</td>\n",
       "    </tr>\n",
       "    <tr>\n",
       "      <th>min</th>\n",
       "      <td>-2.725600e+04</td>\n",
       "      <td>0.000000e+00</td>\n",
       "      <td>0.000000e+00</td>\n",
       "      <td>0.000000e+00</td>\n",
       "      <td>0.000000e+00</td>\n",
       "      <td>0.000000e+00</td>\n",
       "      <td>0.000000e+00</td>\n",
       "      <td>0.000000e+00</td>\n",
       "      <td>0.000000e+00</td>\n",
       "      <td>0.000000e+00</td>\n",
       "      <td>...</td>\n",
       "      <td>0.000000e+00</td>\n",
       "      <td>0.000000e+00</td>\n",
       "      <td>0.000000e+00</td>\n",
       "      <td>-9.900000e+01</td>\n",
       "      <td>-9.900000e+01</td>\n",
       "      <td>0.000000e+00</td>\n",
       "      <td>0.000000e+00</td>\n",
       "      <td>0.000000e+00</td>\n",
       "      <td>0.000000e+00</td>\n",
       "      <td>0.000000e+00</td>\n",
       "    </tr>\n",
       "    <tr>\n",
       "      <th>25%</th>\n",
       "      <td>4.000000e+00</td>\n",
       "      <td>4.000000e+00</td>\n",
       "      <td>0.000000e+00</td>\n",
       "      <td>0.000000e+00</td>\n",
       "      <td>0.000000e+00</td>\n",
       "      <td>0.000000e+00</td>\n",
       "      <td>0.000000e+00</td>\n",
       "      <td>0.000000e+00</td>\n",
       "      <td>0.000000e+00</td>\n",
       "      <td>0.000000e+00</td>\n",
       "      <td>...</td>\n",
       "      <td>0.000000e+00</td>\n",
       "      <td>0.000000e+00</td>\n",
       "      <td>0.000000e+00</td>\n",
       "      <td>6.600000e-01</td>\n",
       "      <td>6.300000e-01</td>\n",
       "      <td>0.000000e+00</td>\n",
       "      <td>0.000000e+00</td>\n",
       "      <td>0.000000e+00</td>\n",
       "      <td>0.000000e+00</td>\n",
       "      <td>0.000000e+00</td>\n",
       "    </tr>\n",
       "    <tr>\n",
       "      <th>50%</th>\n",
       "      <td>1.500000e+01</td>\n",
       "      <td>8.000000e+00</td>\n",
       "      <td>0.000000e+00</td>\n",
       "      <td>0.000000e+00</td>\n",
       "      <td>0.000000e+00</td>\n",
       "      <td>0.000000e+00</td>\n",
       "      <td>0.000000e+00</td>\n",
       "      <td>0.000000e+00</td>\n",
       "      <td>0.000000e+00</td>\n",
       "      <td>0.000000e+00</td>\n",
       "      <td>...</td>\n",
       "      <td>0.000000e+00</td>\n",
       "      <td>0.000000e+00</td>\n",
       "      <td>0.000000e+00</td>\n",
       "      <td>8.100000e-01</td>\n",
       "      <td>8.200000e-01</td>\n",
       "      <td>0.000000e+00</td>\n",
       "      <td>1.000000e+00</td>\n",
       "      <td>2.000000e+00</td>\n",
       "      <td>4.000000e+00</td>\n",
       "      <td>0.000000e+00</td>\n",
       "    </tr>\n",
       "    <tr>\n",
       "      <th>75%</th>\n",
       "      <td>8.000000e+01</td>\n",
       "      <td>9.000000e+00</td>\n",
       "      <td>0.000000e+00</td>\n",
       "      <td>3.000000e+00</td>\n",
       "      <td>0.000000e+00</td>\n",
       "      <td>0.000000e+00</td>\n",
       "      <td>0.000000e+00</td>\n",
       "      <td>0.000000e+00</td>\n",
       "      <td>0.000000e+00</td>\n",
       "      <td>0.000000e+00</td>\n",
       "      <td>...</td>\n",
       "      <td>4.000000e+00</td>\n",
       "      <td>1.200000e+01</td>\n",
       "      <td>2.000000e+01</td>\n",
       "      <td>9.500000e-01</td>\n",
       "      <td>9.600000e-01</td>\n",
       "      <td>4.000000e+00</td>\n",
       "      <td>1.500000e+01</td>\n",
       "      <td>3.100000e+01</td>\n",
       "      <td>4.600000e+01</td>\n",
       "      <td>0.000000e+00</td>\n",
       "    </tr>\n",
       "    <tr>\n",
       "      <th>max</th>\n",
       "      <td>1.233440e+07</td>\n",
       "      <td>5.200000e+01</td>\n",
       "      <td>4.894080e+05</td>\n",
       "      <td>3.133190e+05</td>\n",
       "      <td>1.000000e+00</td>\n",
       "      <td>1.464960e+05</td>\n",
       "      <td>1.002400e+04</td>\n",
       "      <td>1.000000e+00</td>\n",
       "      <td>1.000000e+00</td>\n",
       "      <td>1.000000e+00</td>\n",
       "      <td>...</td>\n",
       "      <td>1.510592e+06</td>\n",
       "      <td>2.461360e+06</td>\n",
       "      <td>3.777304e+06</td>\n",
       "      <td>1.000000e+00</td>\n",
       "      <td>1.000000e+00</td>\n",
       "      <td>7.417740e+05</td>\n",
       "      <td>1.104181e+06</td>\n",
       "      <td>2.146625e+06</td>\n",
       "      <td>3.201035e+06</td>\n",
       "      <td>1.000000e+00</td>\n",
       "    </tr>\n",
       "  </tbody>\n",
       "</table>\n",
       "<p>8 rows × 22 columns</p>\n",
       "</div>"
      ],
      "text/plain": [
       "       national_inv     lead_time  in_transit_qty      min_bank  \\\n",
       "count  1.531719e+06  1.439852e+06    1.531719e+06  1.531719e+06   \n",
       "mean   5.019623e+02  7.877446e+00    4.331803e+01  5.302931e+01   \n",
       "std    3.085772e+04  7.047404e+00    1.359490e+03  1.329703e+03   \n",
       "min   -2.725600e+04  0.000000e+00    0.000000e+00  0.000000e+00   \n",
       "25%    4.000000e+00  4.000000e+00    0.000000e+00  0.000000e+00   \n",
       "50%    1.500000e+01  8.000000e+00    0.000000e+00  0.000000e+00   \n",
       "75%    8.000000e+01  9.000000e+00    0.000000e+00  3.000000e+00   \n",
       "max    1.233440e+07  5.200000e+01    4.894080e+05  3.133190e+05   \n",
       "\n",
       "       potential_issue  pieces_past_due  local_bo_qty     deck_risk  \\\n",
       "count     1.531719e+06     1.531719e+06  1.531719e+06  1.531719e+06   \n",
       "mean      5.157604e-04     2.031273e+00  6.386348e-01  2.256876e-01   \n",
       "std       2.270451e-02     2.342047e+02  3.393928e+01  4.180345e-01   \n",
       "min       0.000000e+00     0.000000e+00  0.000000e+00  0.000000e+00   \n",
       "25%       0.000000e+00     0.000000e+00  0.000000e+00  0.000000e+00   \n",
       "50%       0.000000e+00     0.000000e+00  0.000000e+00  0.000000e+00   \n",
       "75%       0.000000e+00     0.000000e+00  0.000000e+00  0.000000e+00   \n",
       "max       1.000000e+00     1.464960e+05  1.002400e+04  1.000000e+00   \n",
       "\n",
       "       oe_constraint     ppap_risk        ...          forecast_3_month  \\\n",
       "count   1.531719e+06  1.531719e+06        ...              1.531719e+06   \n",
       "mean    1.553810e-04  1.204980e-01        ...              1.786599e+02   \n",
       "std     1.246423e-02  3.255430e-01        ...              5.291142e+03   \n",
       "min     0.000000e+00  0.000000e+00        ...              0.000000e+00   \n",
       "25%     0.000000e+00  0.000000e+00        ...              0.000000e+00   \n",
       "50%     0.000000e+00  0.000000e+00        ...              0.000000e+00   \n",
       "75%     0.000000e+00  0.000000e+00        ...              4.000000e+00   \n",
       "max     1.000000e+00  1.000000e+00        ...              1.510592e+06   \n",
       "\n",
       "       forecast_6_month  forecast_9_month  perf_12_month_avg  \\\n",
       "count      1.466183e+06      1.432675e+06       1.463223e+06   \n",
       "mean       3.475876e+02      5.071983e+02      -6.456384e+00   \n",
       "std        1.027504e+04      1.481504e+04       2.587365e+01   \n",
       "min        0.000000e+00      0.000000e+00      -9.900000e+01   \n",
       "25%        0.000000e+00      0.000000e+00       6.600000e-01   \n",
       "50%        0.000000e+00      0.000000e+00       8.100000e-01   \n",
       "75%        1.200000e+01      2.000000e+01       9.500000e-01   \n",
       "max        2.461360e+06      3.777304e+06       1.000000e+00   \n",
       "\n",
       "       perf_6_month_avg  sales_1_month  sales_3_month  sales_6_month  \\\n",
       "count      1.479977e+06   1.524082e+06   1.466183e+06   1.447949e+06   \n",
       "mean      -6.901722e+00   5.579320e+01   1.744999e+02   3.426361e+02   \n",
       "std        2.660285e+01   1.980100e+03   5.265509e+03   9.826218e+03   \n",
       "min       -9.900000e+01   0.000000e+00   0.000000e+00   0.000000e+00   \n",
       "25%        6.300000e-01   0.000000e+00   0.000000e+00   0.000000e+00   \n",
       "50%        8.200000e-01   0.000000e+00   1.000000e+00   2.000000e+00   \n",
       "75%        9.600000e-01   4.000000e+00   1.500000e+01   3.100000e+01   \n",
       "max        1.000000e+00   7.417740e+05   1.104181e+06   2.146625e+06   \n",
       "\n",
       "       sales_9_month  went_on_backorder  \n",
       "count   1.516445e+06       1.531719e+06  \n",
       "mean    5.238428e+02       6.787146e-03  \n",
       "std     1.491968e+04       8.210411e-02  \n",
       "min     0.000000e+00       0.000000e+00  \n",
       "25%     0.000000e+00       0.000000e+00  \n",
       "50%     4.000000e+00       0.000000e+00  \n",
       "75%     4.600000e+01       0.000000e+00  \n",
       "max     3.201035e+06       1.000000e+00  \n",
       "\n",
       "[8 rows x 22 columns]"
      ]
     },
     "execution_count": 18,
     "metadata": {},
     "output_type": "execute_result"
    }
   ],
   "source": [
    "train.describe()"
   ]
  },
  {
   "cell_type": "markdown",
   "metadata": {},
   "source": [
    "The data, although tidy, has three problems: \n",
    "1. It is strongly unbalanced 150/1\n",
    "2. Some NaNs\n",
    "3. The values are not standardized (this will be taken care of in the sklearn pipelines)\n",
    "\n",
    "This is my proposed solution for the train set: \n",
    "1. Split into a stratified train and test\n",
    "2. Impute with the median separetely\n",
    "3. Reduce the most common class by a factor of 30 \n",
    "4. Oversample the least common class by a factor of 5"
   ]
  },
  {
   "cell_type": "code",
   "execution_count": 19,
   "metadata": {},
   "outputs": [
    {
     "data": {
      "text/plain": [
       "0    1064926\n",
       "1       7277\n",
       "Name: went_on_backorder, dtype: int64"
      ]
     },
     "execution_count": 19,
     "metadata": {},
     "output_type": "execute_result"
    }
   ],
   "source": [
    "# Step 1. Split into a stratified train and test\n",
    "from sklearn.model_selection import train_test_split\n",
    "X = train.drop(\"went_on_backorder\", 1)\n",
    "y = train[\"went_on_backorder\"]\n",
    "\n",
    "X_train, X_val, y_train, y_val = train_test_split(X, y, test_size = .3, \n",
    "                                                  stratify = y, random_state=42)\n",
    "y_train.value_counts()"
   ]
  },
  {
   "cell_type": "code",
   "execution_count": 20,
   "metadata": {},
   "outputs": [],
   "source": [
    "# Step 2. Impute with the median separetely\n",
    "X_train = X_train.apply(lambda x: x.fillna(x.median()))\n",
    "X_val = X_val.apply(lambda x: x.fillna(x.median()))"
   ]
  },
  {
   "cell_type": "code",
   "execution_count": 21,
   "metadata": {},
   "outputs": [
    {
     "data": {
      "text/plain": [
       "0    351426\n",
       "1      7277\n",
       "Name: went_on_backorder, dtype: int64"
      ]
     },
     "execution_count": 21,
     "metadata": {},
     "output_type": "execute_result"
    }
   ],
   "source": [
    "# Step 3. Reduce the most common class by a factor of 30  (only on train)\n",
    "tmp = pd.concat([X_train, y_train], axis=1)\n",
    "\n",
    "tr1 = tmp[tmp[\"went_on_backorder\"] == 1]\n",
    "tr2 = tmp[tmp[\"went_on_backorder\"] == 0].sample(frac=0.33, random_state=42)\n",
    "\n",
    "reduced = pd.concat([tr1, tr2], axis=0)\n",
    "\n",
    "X_train_under = reduced.drop(\"went_on_backorder\", 1)\n",
    "y_train_under = reduced[\"went_on_backorder\"]\n",
    "\n",
    "y_train_under.value_counts()"
   ]
  },
  {
   "cell_type": "code",
   "execution_count": 22,
   "metadata": {},
   "outputs": [
    {
     "data": {
      "text/plain": [
       "1    351426\n",
       "0    351426\n",
       "Name: went_on_back_order, dtype: int64"
      ]
     },
     "execution_count": 22,
     "metadata": {},
     "output_type": "execute_result"
    }
   ],
   "source": [
    "# Step 4. Oversample the least common class by a factor of 5\n",
    "from imblearn.over_sampling import SMOTE \n",
    "\n",
    "sm = SMOTE(random_state=42)\n",
    "X_train_under_over, y_train_under_over = sm.fit_sample(X_train_under, y_train_under)\n",
    "\n",
    "X_train_under_over = pd.DataFrame(X_train_under_over, columns=X_train.columns)\n",
    "y_train_under_over = pd.Series(y_train_under_over, name=\"went_on_back_order\")\n",
    "\n",
    "y_train_under_over.value_counts()"
   ]
  },
  {
   "cell_type": "code",
   "execution_count": 28,
   "metadata": {},
   "outputs": [
    {
     "data": {
      "text/plain": [
       "(1072203, 21)"
      ]
     },
     "execution_count": 28,
     "metadata": {},
     "output_type": "execute_result"
    }
   ],
   "source": [
    "X_train.shape"
   ]
  },
  {
   "cell_type": "code",
   "execution_count": 29,
   "metadata": {},
   "outputs": [
    {
     "data": {
      "text/plain": [
       "(1072203,)"
      ]
     },
     "execution_count": 29,
     "metadata": {},
     "output_type": "execute_result"
    }
   ],
   "source": [
    "y_train.shape"
   ]
  },
  {
   "cell_type": "markdown",
   "metadata": {},
   "source": [
    "We reached a balanced training dataset with no more `NaNs`."
   ]
  },
  {
   "cell_type": "markdown",
   "metadata": {},
   "source": [
    "# From tidy data to clean data - test"
   ]
  },
  {
   "cell_type": "code",
   "execution_count": 23,
   "metadata": {
    "scrolled": true
   },
   "outputs": [
    {
     "data": {
      "text/plain": [
       "national_inv           0\n",
       "lead_time            280\n",
       "in_transit_qty         0\n",
       "min_bank               0\n",
       "potential_issue        0\n",
       "pieces_past_due        0\n",
       "local_bo_qty           0\n",
       "deck_risk              0\n",
       "oe_constraint          0\n",
       "ppap_risk              0\n",
       "stop_auto_buy          0\n",
       "rev_stop               0\n",
       "forecast_3_month       0\n",
       "forecast_6_month       0\n",
       "forecast_9_month       0\n",
       "perf_12_month_avg      0\n",
       "perf_6_month_avg       0\n",
       "sales_1_month          0\n",
       "sales_3_month          0\n",
       "sales_6_month          0\n",
       "sales_9_month          0\n",
       "dtype: int64"
      ]
     },
     "execution_count": 23,
     "metadata": {},
     "output_type": "execute_result"
    }
   ],
   "source": [
    "test.isnull().sum()"
   ]
  },
  {
   "cell_type": "code",
   "execution_count": 24,
   "metadata": {},
   "outputs": [
    {
     "data": {
      "text/plain": [
       "count    4720.000000\n",
       "mean        7.712076\n",
       "std         6.547360\n",
       "min         0.000000\n",
       "25%         4.000000\n",
       "50%         8.000000\n",
       "75%         9.000000\n",
       "max        52.000000\n",
       "Name: lead_time, dtype: float64"
      ]
     },
     "execution_count": 24,
     "metadata": {},
     "output_type": "execute_result"
    }
   ],
   "source": [
    "test.lead_time.describe()"
   ]
  },
  {
   "cell_type": "markdown",
   "metadata": {},
   "source": [
    "We can see that `lead_time` has 5% missing values. Also from the `describe()` function, we can see a min value of 0 and a max value of 52. Given those outliers, I chose to impute the missing values with the median rather than the mean."
   ]
  },
  {
   "cell_type": "code",
   "execution_count": 25,
   "metadata": {},
   "outputs": [],
   "source": [
    "test[\"lead_time\"] = test[\"lead_time\"].fillna(test[\"lead_time\"].median())"
   ]
  },
  {
   "cell_type": "markdown",
   "metadata": {},
   "source": [
    "# Export the clean dataset"
   ]
  },
  {
   "cell_type": "code",
   "execution_count": 26,
   "metadata": {},
   "outputs": [],
   "source": [
    "X_train.to_csv(\"../clean_data/X_train.csv\")\n",
    "X_val.to_csv(\"../clean_data/X_val.csv\")\n",
    "\n",
    "y_train.to_csv(\"../clean_data/y_train.csv\")\n",
    "y_val.to_csv(\"../clean_data/y_val.csv\")\n",
    "\n",
    "test.to_csv(\"../clean_data/test.csv\")"
   ]
  }
 ],
 "metadata": {
  "kernelspec": {
   "display_name": "Python 3",
   "language": "python",
   "name": "python3"
  },
  "language_info": {
   "codemirror_mode": {
    "name": "ipython",
    "version": 3
   },
   "file_extension": ".py",
   "mimetype": "text/x-python",
   "name": "python",
   "nbconvert_exporter": "python",
   "pygments_lexer": "ipython3",
   "version": "3.6.1"
  }
 },
 "nbformat": 4,
 "nbformat_minor": 2
}
